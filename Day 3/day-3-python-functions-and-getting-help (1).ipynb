{
 "cells": [
  {
   "cell_type": "markdown",
   "id": "8556bf5d",
   "metadata": {
    "papermill": {
     "duration": 0.015592,
     "end_time": "2021-08-05T11:18:01.196905",
     "exception": false,
     "start_time": "2021-08-05T11:18:01.181313",
     "status": "completed"
    },
    "tags": []
   },
   "source": [
    "**This notebook is an exercise in the [Python](https://www.kaggle.com/learn/python) course.  You can reference the tutorial at [this link](https://www.kaggle.com/colinmorris/functions-and-getting-help).**\n",
    "\n",
    "---\n"
   ]
  },
  {
   "cell_type": "markdown",
   "id": "d03e2b39",
   "metadata": {
    "papermill": {
     "duration": 0.01749,
     "end_time": "2021-08-05T11:18:01.231383",
     "exception": false,
     "start_time": "2021-08-05T11:18:01.213893",
     "status": "completed"
    },
    "tags": []
   },
   "source": [
    "Functions are powerful. Try writing some yourself.\n",
    "\n",
    "As before, don't forget to run the setup code below before jumping into question 1."
   ]
  },
  {
   "cell_type": "code",
   "execution_count": 1,
   "id": "19d229f1",
   "metadata": {
    "_kg_hide-input": true,
    "_kg_hide-output": true,
    "execution": {
     "iopub.execute_input": "2021-08-05T11:18:01.279778Z",
     "iopub.status.busy": "2021-08-05T11:18:01.279104Z",
     "iopub.status.idle": "2021-08-05T11:18:01.424525Z",
     "shell.execute_reply": "2021-08-05T11:18:01.425013Z",
     "shell.execute_reply.started": "2021-08-05T11:14:06.554690Z"
    },
    "papermill": {
     "duration": 0.173973,
     "end_time": "2021-08-05T11:18:01.425333",
     "exception": false,
     "start_time": "2021-08-05T11:18:01.251360",
     "status": "completed"
    },
    "tags": []
   },
   "outputs": [
    {
     "name": "stdout",
     "output_type": "stream",
     "text": [
      "Setup complete.\n"
     ]
    }
   ],
   "source": [
    "# SETUP. You don't need to worry for now about what this code does or how it works.\n",
    "from learntools.core import binder; binder.bind(globals())\n",
    "from learntools.python.ex2 import *\n",
    "print('Setup complete.')"
   ]
  },
  {
   "cell_type": "markdown",
   "id": "68bd5b13",
   "metadata": {
    "papermill": {
     "duration": 0.014129,
     "end_time": "2021-08-05T11:18:01.454627",
     "exception": false,
     "start_time": "2021-08-05T11:18:01.440498",
     "status": "completed"
    },
    "tags": []
   },
   "source": [
    "# 1.\n",
    "\n",
    "Complete the body of the following function according to its docstring.\n",
    "\n",
    "HINT: Python has a built-in function `round`."
   ]
  },
  {
   "cell_type": "code",
   "execution_count": 2,
   "id": "e3ec3621",
   "metadata": {
    "execution": {
     "iopub.execute_input": "2021-08-05T11:18:01.491062Z",
     "iopub.status.busy": "2021-08-05T11:18:01.490412Z",
     "iopub.status.idle": "2021-08-05T11:18:01.496858Z",
     "shell.execute_reply": "2021-08-05T11:18:01.496346Z",
     "shell.execute_reply.started": "2021-08-05T11:14:06.562864Z"
    },
    "papermill": {
     "duration": 0.028032,
     "end_time": "2021-08-05T11:18:01.496992",
     "exception": false,
     "start_time": "2021-08-05T11:18:01.468960",
     "status": "completed"
    },
    "tags": []
   },
   "outputs": [
    {
     "data": {
      "application/javascript": [
       "parent.postMessage({\"jupyterEvent\": \"custom.exercise_interaction\", \"data\": {\"outcomeType\": 1, \"valueTowardsCompletion\": 0.16666666666666666, \"interactionType\": 1, \"questionType\": 2, \"questionId\": \"1_RoundFunctionProblem\", \"learnToolsVersion\": \"0.3.4\", \"failureMessage\": \"\", \"exceptionClass\": \"\", \"trace\": \"\"}}, \"*\")"
      ],
      "text/plain": [
       "<IPython.core.display.Javascript object>"
      ]
     },
     "metadata": {},
     "output_type": "display_data"
    },
    {
     "data": {
      "text/markdown": [
       "<span style=\"color:#33cc33\">Correct</span>"
      ],
      "text/plain": [
       "Correct"
      ]
     },
     "metadata": {},
     "output_type": "display_data"
    }
   ],
   "source": [
    "def round_to_two_places(num):\n",
    "    return round(num,2)\n",
    "    pass\n",
    "\n",
    "# Check your answer\n",
    "q1.check()"
   ]
  },
  {
   "cell_type": "code",
   "execution_count": 3,
   "id": "f4224628",
   "metadata": {
    "execution": {
     "iopub.execute_input": "2021-08-05T11:18:01.532251Z",
     "iopub.status.busy": "2021-08-05T11:18:01.531573Z",
     "iopub.status.idle": "2021-08-05T11:18:01.534502Z",
     "shell.execute_reply": "2021-08-05T11:18:01.533966Z",
     "shell.execute_reply.started": "2021-08-05T11:14:06.580631Z"
    },
    "papermill": {
     "duration": 0.022118,
     "end_time": "2021-08-05T11:18:01.534640",
     "exception": false,
     "start_time": "2021-08-05T11:18:01.512522",
     "status": "completed"
    },
    "tags": []
   },
   "outputs": [],
   "source": [
    "# Uncomment the following for a hint\n",
    "#q1.hint()\n",
    "# Or uncomment the following to peek at the solution\n",
    "#q1.solution()"
   ]
  },
  {
   "cell_type": "markdown",
   "id": "f1565d59",
   "metadata": {
    "papermill": {
     "duration": 0.015328,
     "end_time": "2021-08-05T11:18:01.565447",
     "exception": false,
     "start_time": "2021-08-05T11:18:01.550119",
     "status": "completed"
    },
    "tags": []
   },
   "source": [
    "# 2.\n",
    "The help for `round` says that `ndigits` (the second argument) may be negative.\n",
    "What do you think will happen when it is? Try some examples in the following cell."
   ]
  },
  {
   "cell_type": "code",
   "execution_count": 4,
   "id": "8be91e1a",
   "metadata": {
    "execution": {
     "iopub.execute_input": "2021-08-05T11:18:01.603639Z",
     "iopub.status.busy": "2021-08-05T11:18:01.602592Z",
     "iopub.status.idle": "2021-08-05T11:18:01.607400Z",
     "shell.execute_reply": "2021-08-05T11:18:01.606858Z",
     "shell.execute_reply.started": "2021-08-05T11:14:06.589333Z"
    },
    "papermill": {
     "duration": 0.026046,
     "end_time": "2021-08-05T11:18:01.607548",
     "exception": false,
     "start_time": "2021-08-05T11:18:01.581502",
     "status": "completed"
    },
    "tags": []
   },
   "outputs": [
    {
     "data": {
      "text/plain": [
       "234000.0"
      ]
     },
     "execution_count": 4,
     "metadata": {},
     "output_type": "execute_result"
    }
   ],
   "source": [
    "# Put your test code here\n",
    "round(234234.2343,-3)"
   ]
  },
  {
   "cell_type": "markdown",
   "id": "288817ae",
   "metadata": {
    "papermill": {
     "duration": 0.015345,
     "end_time": "2021-08-05T11:18:01.638766",
     "exception": false,
     "start_time": "2021-08-05T11:18:01.623421",
     "status": "completed"
    },
    "tags": []
   },
   "source": [
    "Can you think of a case where this would be useful?  Once you're ready, run the code cell below to see the answer and to receive credit for completing the problem."
   ]
  },
  {
   "cell_type": "code",
   "execution_count": 5,
   "id": "093168fa",
   "metadata": {
    "execution": {
     "iopub.execute_input": "2021-08-05T11:18:01.674812Z",
     "iopub.status.busy": "2021-08-05T11:18:01.673752Z",
     "iopub.status.idle": "2021-08-05T11:18:01.676745Z",
     "shell.execute_reply": "2021-08-05T11:18:01.676087Z",
     "shell.execute_reply.started": "2021-08-05T11:14:06.605201Z"
    },
    "papermill": {
     "duration": 0.022338,
     "end_time": "2021-08-05T11:18:01.676887",
     "exception": false,
     "start_time": "2021-08-05T11:18:01.654549",
     "status": "completed"
    },
    "tags": []
   },
   "outputs": [],
   "source": [
    "# Check your answer (Run this code cell to receive credit!)\n",
    "#q2.solution()"
   ]
  },
  {
   "cell_type": "markdown",
   "id": "bf881d90",
   "metadata": {
    "papermill": {
     "duration": 0.015493,
     "end_time": "2021-08-05T11:18:01.708043",
     "exception": false,
     "start_time": "2021-08-05T11:18:01.692550",
     "status": "completed"
    },
    "tags": []
   },
   "source": [
    "# 3.\n",
    "\n",
    "In the previous exercise, the candy-sharing friends Alice, Bob and Carol tried to split candies evenly. For the sake of their friendship, any candies left over would be smashed. For example, if they collectively bring home 91 candies, they'll take 30 each and smash 1.\n",
    "\n",
    "Below is a simple function that will calculate the number of candies to smash for *any* number of total candies.\n",
    "\n",
    "Modify it so that it optionally takes a second argument representing the number of friends the candies are being split between. If no second argument is provided, it should assume 3 friends, as before.\n",
    "\n",
    "Update the docstring to reflect this new behaviour."
   ]
  },
  {
   "cell_type": "code",
   "execution_count": 6,
   "id": "6a752491",
   "metadata": {
    "execution": {
     "iopub.execute_input": "2021-08-05T11:18:01.746362Z",
     "iopub.status.busy": "2021-08-05T11:18:01.745654Z",
     "iopub.status.idle": "2021-08-05T11:18:01.749603Z",
     "shell.execute_reply": "2021-08-05T11:18:01.750077Z",
     "shell.execute_reply.started": "2021-08-05T11:14:06.616942Z"
    },
    "papermill": {
     "duration": 0.025991,
     "end_time": "2021-08-05T11:18:01.750285",
     "exception": false,
     "start_time": "2021-08-05T11:18:01.724294",
     "status": "completed"
    },
    "tags": []
   },
   "outputs": [
    {
     "data": {
      "application/javascript": [
       "parent.postMessage({\"jupyterEvent\": \"custom.exercise_interaction\", \"data\": {\"outcomeType\": 1, \"valueTowardsCompletion\": 0.16666666666666666, \"interactionType\": 1, \"questionType\": 2, \"questionId\": \"3_CandySmashingFunctionProblem\", \"learnToolsVersion\": \"0.3.4\", \"failureMessage\": \"\", \"exceptionClass\": \"\", \"trace\": \"\"}}, \"*\")"
      ],
      "text/plain": [
       "<IPython.core.display.Javascript object>"
      ]
     },
     "metadata": {},
     "output_type": "display_data"
    },
    {
     "data": {
      "text/markdown": [
       "<span style=\"color:#33cc33\">Correct</span>"
      ],
      "text/plain": [
       "Correct"
      ]
     },
     "metadata": {},
     "output_type": "display_data"
    }
   ],
   "source": [
    "def to_smash(total_candies,no_of_friends=3):\n",
    "    \"\"\"Return the number of leftover candies that must be smashed after distributing\n",
    "    the given number of candies evenly between 3 friends.\n",
    "    \n",
    "    >>> to_smash(91)\n",
    "    1\n",
    "    \"\"\"\n",
    "    return total_candies % no_of_friends\n",
    "    pass\n",
    "to_smash(91)\n",
    "\n",
    "# Check your answer\n",
    "q3.check()"
   ]
  },
  {
   "cell_type": "code",
   "execution_count": 7,
   "id": "1c6fa57d",
   "metadata": {
    "execution": {
     "iopub.execute_input": "2021-08-05T11:18:01.786438Z",
     "iopub.status.busy": "2021-08-05T11:18:01.785809Z",
     "iopub.status.idle": "2021-08-05T11:18:01.789853Z",
     "shell.execute_reply": "2021-08-05T11:18:01.789339Z",
     "shell.execute_reply.started": "2021-08-05T11:14:06.633044Z"
    },
    "papermill": {
     "duration": 0.02313,
     "end_time": "2021-08-05T11:18:01.789984",
     "exception": false,
     "start_time": "2021-08-05T11:18:01.766854",
     "status": "completed"
    },
    "tags": []
   },
   "outputs": [],
   "source": [
    "#q3.hint()"
   ]
  },
  {
   "cell_type": "code",
   "execution_count": 8,
   "id": "f5923485",
   "metadata": {
    "execution": {
     "iopub.execute_input": "2021-08-05T11:18:01.826620Z",
     "iopub.status.busy": "2021-08-05T11:18:01.825967Z",
     "iopub.status.idle": "2021-08-05T11:18:01.829115Z",
     "shell.execute_reply": "2021-08-05T11:18:01.829640Z",
     "shell.execute_reply.started": "2021-08-05T11:14:06.644852Z"
    },
    "papermill": {
     "duration": 0.022976,
     "end_time": "2021-08-05T11:18:01.829808",
     "exception": false,
     "start_time": "2021-08-05T11:18:01.806832",
     "status": "completed"
    },
    "tags": []
   },
   "outputs": [],
   "source": [
    "#q3.solution()"
   ]
  },
  {
   "cell_type": "markdown",
   "id": "c4aa5dae",
   "metadata": {
    "papermill": {
     "duration": 0.016576,
     "end_time": "2021-08-05T11:18:01.863047",
     "exception": false,
     "start_time": "2021-08-05T11:18:01.846471",
     "status": "completed"
    },
    "tags": []
   },
   "source": [
    "# 4. (Optional)\n",
    "\n",
    "It may not be fun, but reading and understanding error messages will be an important part of your Python career.\n",
    "\n",
    "Each code cell below contains some commented buggy code. For each cell...\n",
    "\n",
    "1. Read the code and predict what you think will happen when it's run.\n",
    "2. Then uncomment the code and run it to see what happens. (**Tip**: In the kernel editor, you can highlight several lines and press `ctrl`+`/` to toggle commenting.)\n",
    "3. Fix the code (so that it accomplishes its intended purpose without throwing an exception)\n",
    "\n",
    "<!-- TODO: should this be autochecked? Delta is probably pretty small. -->"
   ]
  },
  {
   "cell_type": "code",
   "execution_count": 9,
   "id": "c00b1cb8",
   "metadata": {
    "execution": {
     "iopub.execute_input": "2021-08-05T11:18:01.900008Z",
     "iopub.status.busy": "2021-08-05T11:18:01.899380Z",
     "iopub.status.idle": "2021-08-05T11:18:01.904595Z",
     "shell.execute_reply": "2021-08-05T11:18:01.905044Z",
     "shell.execute_reply.started": "2021-08-05T11:14:06.658607Z"
    },
    "papermill": {
     "duration": 0.025305,
     "end_time": "2021-08-05T11:18:01.905248",
     "exception": false,
     "start_time": "2021-08-05T11:18:01.879943",
     "status": "completed"
    },
    "tags": []
   },
   "outputs": [
    {
     "data": {
      "text/plain": [
       "10.0"
      ]
     },
     "execution_count": 9,
     "metadata": {},
     "output_type": "execute_result"
    }
   ],
   "source": [
    "round_to_two_places(9.9999)"
   ]
  },
  {
   "cell_type": "code",
   "execution_count": 10,
   "id": "1c3a83f5",
   "metadata": {
    "execution": {
     "iopub.execute_input": "2021-08-05T11:18:01.943079Z",
     "iopub.status.busy": "2021-08-05T11:18:01.942083Z",
     "iopub.status.idle": "2021-08-05T11:18:01.948470Z",
     "shell.execute_reply": "2021-08-05T11:18:01.947856Z",
     "shell.execute_reply.started": "2021-08-05T11:14:26.053776Z"
    },
    "papermill": {
     "duration": 0.026167,
     "end_time": "2021-08-05T11:18:01.948612",
     "exception": false,
     "start_time": "2021-08-05T11:18:01.922445",
     "status": "completed"
    },
    "tags": []
   },
   "outputs": [
    {
     "name": "stdout",
     "output_type": "stream",
     "text": [
      "5\n"
     ]
    }
   ],
   "source": [
    " x = -10\n",
    " y = 5\n",
    "# # Which of the two variables above has the smallest absolute value?\n",
    " smallest_abs = min(abs(x),abs(y))\n",
    " print(smallest_abs)"
   ]
  },
  {
   "cell_type": "code",
   "execution_count": 11,
   "id": "5cf2260d",
   "metadata": {
    "execution": {
     "iopub.execute_input": "2021-08-05T11:18:01.990379Z",
     "iopub.status.busy": "2021-08-05T11:18:01.989391Z",
     "iopub.status.idle": "2021-08-05T11:18:01.992502Z",
     "shell.execute_reply": "2021-08-05T11:18:01.992991Z",
     "shell.execute_reply.started": "2021-08-05T11:15:16.785628Z"
    },
    "papermill": {
     "duration": 0.027144,
     "end_time": "2021-08-05T11:18:01.993157",
     "exception": false,
     "start_time": "2021-08-05T11:18:01.966013",
     "status": "completed"
    },
    "tags": []
   },
   "outputs": [
    {
     "name": "stdout",
     "output_type": "stream",
     "text": [
      "5\n"
     ]
    }
   ],
   "source": [
    "def f(x):\n",
    "    y = abs(x)\n",
    "    return y\n",
    "\n",
    "print(f(5))"
   ]
  },
  {
   "cell_type": "markdown",
   "id": "e27bfa61",
   "metadata": {
    "papermill": {
     "duration": 0.01718,
     "end_time": "2021-08-05T11:18:02.028577",
     "exception": false,
     "start_time": "2021-08-05T11:18:02.011397",
     "status": "completed"
    },
    "tags": []
   },
   "source": [
    "# Keep Going\n",
    "\n",
    "Nice job with the code. Next up, you'll learn about *conditionals*, which you'll need to **[write interesting programs](https://www.kaggle.com/colinmorris/booleans-and-conditionals)**. "
   ]
  },
  {
   "cell_type": "markdown",
   "id": "ac0456da",
   "metadata": {
    "papermill": {
     "duration": 0.017206,
     "end_time": "2021-08-05T11:18:02.063619",
     "exception": false,
     "start_time": "2021-08-05T11:18:02.046413",
     "status": "completed"
    },
    "tags": []
   },
   "source": [
    "---\n",
    "\n",
    "\n",
    "\n",
    "\n",
    "*Have questions or comments? Visit the [Learn Discussion forum](https://www.kaggle.com/learn-forum/161283) to chat with other Learners.*"
   ]
  }
 ],
 "metadata": {
  "kernelspec": {
   "display_name": "Python 3",
   "language": "python",
   "name": "python3"
  },
  "language_info": {
   "codemirror_mode": {
    "name": "ipython",
    "version": 3
   },
   "file_extension": ".py",
   "mimetype": "text/x-python",
   "name": "python",
   "nbconvert_exporter": "python",
   "pygments_lexer": "ipython3",
   "version": "3.7.10"
  },
  "papermill": {
   "default_parameters": {},
   "duration": 10.91554,
   "end_time": "2021-08-05T11:18:03.316284",
   "environment_variables": {},
   "exception": null,
   "input_path": "__notebook__.ipynb",
   "output_path": "__notebook__.ipynb",
   "parameters": {},
   "start_time": "2021-08-05T11:17:52.400744",
   "version": "2.3.3"
  }
 },
 "nbformat": 4,
 "nbformat_minor": 5
}
